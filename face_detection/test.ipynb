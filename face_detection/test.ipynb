{
 "cells": [
  {
   "cell_type": "code",
   "execution_count": 2,
   "id": "6f91f87a",
   "metadata": {},
   "outputs": [
    {
     "name": "stdout",
     "output_type": "stream",
     "text": [
      "User Server localhost\n"
     ]
    }
   ],
   "source": [
    "# connect to redis\n",
    "import redis\n",
    "import os\n",
    "import base64\n",
    "from PIL import Image\n",
    "from io import BytesIO\n",
    "import io, random\n",
    "from datetime import datetime, timedelta\n",
    "import json\n",
    "from utils import img_to_txt\n",
    "\n",
    "\n",
    "server = os.environ['redis_server'] if 'os.environ' in os.environ and len(os.environ['redis_server']) > 1 else 'localhost'\n",
    "print(f\"User Server {server}\")\n",
    "# connect with redis server as Bob\n",
    "r = redis.Redis(host=server, port=6379)\n",
    "\n",
    "\n"
   ]
  },
  {
   "cell_type": "code",
   "execution_count": 4,
   "id": "60361319",
   "metadata": {},
   "outputs": [
    {
     "name": "stdout",
     "output_type": "stream",
     "text": [
      "Request Done 1\n"
     ]
    }
   ],
   "source": [
    "\n",
    "\n",
    "\n",
    "brust     = 1\n",
    "count     = 0 \n",
    "\n",
    "\n",
    "\n",
    "\n",
    "\n",
    "with r.pipeline() as pipe:\n",
    "    for i in range(0, brust):\n",
    "        random_id = int(random.random()*100000)\n",
    "\n",
    "        image= {\n",
    "                'request_time'   : str(datetime.today()),\n",
    "                'image'          : img_to_txt(\"test_images/test.jpeg\"),\n",
    "                'status'         : 'pending'\n",
    "                }\n",
    "        \n",
    "        # Publishing to the stream for testing\n",
    "        pipe.publish('new_request', json.dumps(image))\n",
    "        count+=1\n",
    "        \n",
    "    \n",
    "    pipe.execute()\n",
    "print(f\"Request Done {count}\")"
   ]
  },
  {
   "cell_type": "code",
   "execution_count": 1,
   "id": "df0e8375",
   "metadata": {},
   "outputs": [
    {
     "ename": "NameError",
     "evalue": "name 'r' is not defined",
     "output_type": "error",
     "traceback": [
      "\u001b[0;31m---------------------------------------------------------------------------\u001b[0m",
      "\u001b[0;31mNameError\u001b[0m                                 Traceback (most recent call last)",
      "\u001b[0;32m/var/folders/72/ch9z_qys5cb5fx8p_dsgd7n00000gp/T/ipykernel_29529/4023508555.py\u001b[0m in \u001b[0;36m<module>\u001b[0;34m\u001b[0m\n\u001b[1;32m     16\u001b[0m \u001b[0;34m\u001b[0m\u001b[0m\n\u001b[1;32m     17\u001b[0m \u001b[0;34m\u001b[0m\u001b[0m\n\u001b[0;32m---> 18\u001b[0;31m \u001b[0;32mfor\u001b[0m \u001b[0mk\u001b[0m \u001b[0;32min\u001b[0m \u001b[0mr\u001b[0m\u001b[0;34m.\u001b[0m\u001b[0mscan_iter\u001b[0m\u001b[0;34m(\u001b[0m\u001b[0mmatch\u001b[0m\u001b[0;34m=\u001b[0m\u001b[0;34m'*'\u001b[0m\u001b[0;34m)\u001b[0m\u001b[0;34m:\u001b[0m\u001b[0;34m\u001b[0m\u001b[0;34m\u001b[0m\u001b[0m\n\u001b[0m\u001b[1;32m     19\u001b[0m     \u001b[0mi\u001b[0m \u001b[0;34m=\u001b[0m \u001b[0mr\u001b[0m\u001b[0;34m.\u001b[0m\u001b[0mhgetall\u001b[0m\u001b[0;34m(\u001b[0m\u001b[0mk\u001b[0m\u001b[0;34m)\u001b[0m\u001b[0;34m\u001b[0m\u001b[0;34m\u001b[0m\u001b[0m\n\u001b[1;32m     20\u001b[0m \u001b[0;31m#     print(i)\u001b[0m\u001b[0;34m\u001b[0m\u001b[0;34m\u001b[0m\u001b[0;34m\u001b[0m\u001b[0m\n",
      "\u001b[0;31mNameError\u001b[0m: name 'r' is not defined"
     ]
    }
   ],
   "source": [
    "from collections import Counter\n",
    "def millis_interval(end, start):\n",
    "    \"\"\"start and end are datetime instances\"\"\"\n",
    "    diff = end - start\n",
    "    millis = diff.days * 24 * 60 * 60 * 1000\n",
    "    millis += diff.seconds * 1000\n",
    "    millis += diff.microseconds / 1000\n",
    "    return millis\n",
    "\n",
    "count = 0\n",
    "processing_time = []\n",
    "task_done_time  = []\n",
    "server_name     = []\n",
    "not_processed   = 0\n",
    "\n",
    "\n",
    "\n",
    "for k in r.scan_iter(match='*'):\n",
    "    i = r.hgetall(k)\n",
    "#     print(i)\n",
    "    try:\n",
    "        request_time    = datetime.strptime(i[b'request_time'].decode(), \"%Y-%m-%d %H:%M:%S.%f\")\n",
    "        processed_time   = datetime.strptime(i[b'processed_time'].decode(), \"%Y-%m-%d %H:%M:%S.%f\")\n",
    "        response_time   = datetime.strptime(i[b'received_time'].decode(), \"%Y-%m-%d %H:%M:%S.%f\")\n",
    "        CSR_NAME        = i[b'server_name'].decode()\n",
    "    \n",
    "        #+ timedelta(hours=5)\n",
    "        processing_time.append(millis_interval(processed_time, request_time ))\n",
    "        task_done_time.append(millis_interval(processed_time, response_time  ))\n",
    "        server_name.append(CSR_NAME)\n",
    "    except Exception as e:\n",
    "        print(e)\n",
    "        pass\n",
    "    \n",
    "    count += 1\n",
    "    \n",
    "print(count)\n",
    "print(f\"Request Processed {brust - not_processed}\")\n",
    "print(f\"Average Whole Request Processing Time this artitecture: {(sum(processing_time)/len(processing_time))/1000}\")\n",
    "print(f\"Average Request Processed Time By CSR: {(sum(task_done_time)/len(task_done_time))/1000}\")\n",
    "print(f\"Request Processed by {Counter(server_name)}\")"
   ]
  },
  {
   "cell_type": "code",
   "execution_count": null,
   "id": "3f16ecf0",
   "metadata": {},
   "outputs": [],
   "source": []
  }
 ],
 "metadata": {
  "kernelspec": {
   "display_name": "skincare",
   "language": "python",
   "name": "skincare"
  },
  "language_info": {
   "codemirror_mode": {
    "name": "ipython",
    "version": 3
   },
   "file_extension": ".py",
   "mimetype": "text/x-python",
   "name": "python",
   "nbconvert_exporter": "python",
   "pygments_lexer": "ipython3",
   "version": "3.7.11"
  }
 },
 "nbformat": 4,
 "nbformat_minor": 5
}
